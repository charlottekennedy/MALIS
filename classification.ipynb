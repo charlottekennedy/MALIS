{
 "cells": [
  {
   "cell_type": "code",
   "execution_count": 1,
   "metadata": {},
   "outputs": [],
   "source": [
    "import pandas as pd\n",
    "import numpy as np\n",
    "import matplotlib.pyplot as plt\n",
    "ocde_data = pd.read_csv('data/OCDE.csv')"
   ]
  },
  {
   "cell_type": "code",
   "execution_count": 2,
   "metadata": {},
   "outputs": [],
   "source": [
    "locations = list(set(np.array(ocde_data['LOCATION'])))\n",
    "nb_locations = len(locations)\n",
    "x=[]\n",
    "\n",
    "for l in locations:\n",
    "    a = ocde_data.loc[ocde_data['LOCATION'] == l]\n",
    "    x.append(np.array(a[['TIME', 'Value']].copy()))"
   ]
  },
  {
   "cell_type": "code",
   "execution_count": 40,
   "metadata": {},
   "outputs": [
    {
     "name": "stdout",
     "output_type": "stream",
     "text": [
      "(252, 2)\n"
     ]
    }
   ],
   "source": [
    "print(x[0].shape)"
   ]
  },
  {
   "cell_type": "code",
   "execution_count": 4,
   "metadata": {},
   "outputs": [],
   "source": [
    "y = []\n",
    "for i in range(0,nb_locations):\n",
    "    nb_dates = len(x[i])\n",
    "    yi = []\n",
    "    for j in range(nb_dates-1):\n",
    "        if x[i][j+1][1]>x[i][j][1]:\n",
    "            yi.append([0,1])\n",
    "        else:\n",
    "            yi.append([1,0])\n",
    "    y.append(yi)\n"
   ]
  },
  {
   "cell_type": "code",
   "execution_count": 53,
   "metadata": {},
   "outputs": [],
   "source": [
    "def average_up(x, y_train):\n",
    "    sum_v = 0\n",
    "    cpt = 0\n",
    "    for i in range(len(y_train)):\n",
    "        if y_train[i][1]==1:\n",
    "            cpt+=1\n",
    "            sum_v+=x[0][i+1][1]-x[0][i][1]\n",
    "    return sum_v/cpt\n",
    "            "
   ]
  },
  {
   "cell_type": "code",
   "execution_count": 56,
   "metadata": {},
   "outputs": [],
   "source": [
    "def average_down(x,y_train):\n",
    "    sum_v = 0\n",
    "    cpt = 0\n",
    "    for i in range(len(y_train)):\n",
    "        if y_train[i][0]==1:\n",
    "            cpt+=1\n",
    "            sum_v+=x[0][i][1]-x[0][i+1][1]\n",
    "    return sum_v/cpt"
   ]
  },
  {
   "cell_type": "code",
   "execution_count": 31,
   "metadata": {},
   "outputs": [],
   "source": [
    "import numpy as np\n",
    "from scipy.stats import logistic\n",
    "# from the file NeuralNetwork.py we import the Multi-Layer Perceptron\n",
    "from NeuralNetwork import MLP"
   ]
  },
  {
   "cell_type": "code",
   "execution_count": 32,
   "metadata": {},
   "outputs": [],
   "source": [
    "def d_sigmoid(a) :\n",
    "    '''\n",
    "    Derivative of sigmoid activation function. It can work with single inputs or vectors or matrices.\n",
    "    Return the sigmoid derivative of a\n",
    "    '''\n",
    "    ################# YOUR CODE HERE ####################\n",
    "\n",
    "    x = MLP.sigmoid(a)\n",
    "    \n",
    "    return x*(1-x)\n",
    "    \n",
    "    ################ END OF YOUR CODE HERE ##############\n",
    "    \n",
    "MLP.d_sigmoid=d_sigmoid"
   ]
  },
  {
   "cell_type": "code",
   "execution_count": 33,
   "metadata": {},
   "outputs": [],
   "source": [
    "def forward(self, x) :\n",
    "    '''\n",
    "    Forward function. From input layer to output layer. Input can handle 1D or 2D inputs.\n",
    "\n",
    "    INPUTS:\n",
    "    - x : numpy array of size NxD, where N is the number of samples, D is the number of input dimensions referred as n_input before\n",
    "\n",
    "    OUTPUTS:\n",
    "    - y_hat : numpy array of size NxC, where C is the number of classes\n",
    "    '''\n",
    "    ################# YOUR CODE HERE ####################\n",
    "    nb_layers = len(self.layer)\n",
    "    \n",
    "    def sample_by_sample_forward(s):\n",
    "        self.layer[0].a = np.expand_dims(np.matmul(self.layer[0].W, s), axis = 1) + np.transpose(self.layer[0].b)\n",
    "        self.layer[0].z = MLP.sigmoid(self.layer[0].a)\n",
    "\n",
    "        for i in range(1,nb_layers):\n",
    "            self.layer[i].a = np.add(np.matmul(self.layer[i].W, self.layer[i-1].z), np.transpose(self.layer[i].b))\n",
    "            self.layer[i].z = MLP.sigmoid(self.layer[i].a)\n",
    "        y_hat = self.layer[nb_layers-1].z\n",
    "        return y_hat\n",
    "    \n",
    "    if (x.ndim == 1):\n",
    "        return sample_by_sample_forward(x)\n",
    "    \n",
    "    nb_samples = len(x)\n",
    "    y_hat = []\n",
    "    for s in range(nb_samples):\n",
    "        y_hat.append(sample_by_sample_forward(x[s]))\n",
    "    return y_hat\n",
    "    \n",
    "    \n",
    "    ################ END OF YOUR CODE HERE ##############\n",
    "    return y_hat\n",
    "\n",
    "MLP.forward=forward"
   ]
  },
  {
   "cell_type": "code",
   "execution_count": 8,
   "metadata": {},
   "outputs": [],
   "source": [
    "def loss(y_hat, y) :\n",
    "    '''\n",
    "    Compute the loss between y_hat and y! they can be 1D or 2D arrays!\n",
    "\n",
    "    INPUTS:\n",
    "    - y_hat : numpy array of size NxC, N number of samples, C number of classes. It contains the estimated values of y\n",
    "    - y : numpy array of size NxC with one 1 in each row, corresponding to the correct class for that sample\n",
    "\n",
    "    OUTPUTS:\n",
    "    - L : MSE loss\n",
    "    '''\n",
    "    ################# YOUR CODE HERE ####################\n",
    "\n",
    "    N = len(y_hat)\n",
    "    C = len(y_hat[0])\n",
    "    diff = [0]*C\n",
    "    for i in range(C):\n",
    "        diff[i] += 1/2*(np.sum((y[i]-np.transpose(y_hat[i]))**2, axis = 1))\n",
    "    L = np.sum(diff)/N\n",
    "    \n",
    "    ################ END OF YOUR CODE HERE ##############\n",
    "    return L\n",
    "\n",
    "MLP.loss=loss"
   ]
  },
  {
   "cell_type": "code",
   "execution_count": 9,
   "metadata": {},
   "outputs": [],
   "source": [
    "def accuracy(y_hat,y) :\n",
    "    '''\n",
    "    Compute the accuracy between y_hat and y\n",
    "\n",
    "    INPUTS:\n",
    "    - y_hat : numpy array of size NxC, C number of classes. It contains the estimated values of y\n",
    "    - y : numpy array of size NxC with correct values of y\n",
    "\n",
    "    OUTPUTS:\n",
    "    - acc : the accuracy value between 0 and 1\n",
    "    '''\n",
    "    ################# YOUR CODE HERE ####################\n",
    "\n",
    "    N = len(y_hat)\n",
    "    S=0\n",
    "    for i in range(N):\n",
    "        if np.argmax(y_hat[i])==np.argmax(y[i]):\n",
    "            S+=1\n",
    "    acc = S/N\n",
    "\n",
    "    ################ END OF YOUR CODE HERE ##############\n",
    "    return acc\n",
    "\n",
    "MLP.accuracy=accuracy"
   ]
  },
  {
   "cell_type": "code",
   "execution_count": 10,
   "metadata": {},
   "outputs": [],
   "source": [
    "def backpropagation(self,x,y,y_hat,learning_rate) :\n",
    "    '''\n",
    "    Backpropagate the error from last layer to input layer and then update the parameters\n",
    "\n",
    "    INPUTS:\n",
    "    - y_hat : numpy array of size NxC, C number of classes. It contains the estimated values of y\n",
    "    -y : numpy array of size NxC with correct values of y\n",
    "\n",
    "    OUTPUTS: (compute the error at the different levels and for each layer)\n",
    "    - d_a\n",
    "    - d_z\n",
    "    - delta_L\n",
    "    - delta_l\n",
    "    - d_W\n",
    "    - d_b\n",
    "    '''\n",
    "# compute gradients\n",
    "\n",
    "    ################# YOUR CODE HERE ####################\n",
    "    nb_layers = len(self.layer)\n",
    "    \n",
    "    for l in range(nb_layers-1, -1, -1):\n",
    "        if l==nb_layers-1:\n",
    "            delta_l = y_hat - np.expand_dims(y, axis=1)\n",
    "        else:\n",
    "            delta_l = np.matmul(np.transpose(self.layer[l+1].d_a), self.layer[l+1].W)\n",
    "        self.layer[l].d_z = delta_l\n",
    "        if l!=0:\n",
    "            self.layer[l].d_a = np.multiply(delta_l, d_sigmoid(self.layer[l].a))\n",
    "        else: \n",
    "            self.layer[0].d_a = np.multiply(np.transpose(delta_l), d_sigmoid(self.layer[0].a))\n",
    "        self.layer[l].d_b = self.layer[l].d_a\n",
    "        if l==0:\n",
    "            X = x\n",
    "        else:\n",
    "            X = np.transpose(self.layer[l-1].z)\n",
    "        self.layer[l].d_W = np.matmul(self.layer[l].d_a, X)\n",
    "\n",
    "\n",
    "    ################ END OF YOUR CODE HERE ##############\n",
    "\n",
    "# apply gradients\n",
    "    # just one for loop passing through all layers is sufficient\n",
    "    # apply the gradients only to self.layer[i].b and self.layer[i].W\n",
    "\n",
    "    ################# YOUR CODE HERE ####################\n",
    "    \n",
    "    for l in range(nb_layers):\n",
    "        self.layer[l].W -= learning_rate*self.layer[l].d_W\n",
    "        self.layer[l].b -= learning_rate*np.transpose(self.layer[l].d_b)\n",
    "    \n",
    "    ################ END OF YOUR CODE HERE ##############\n",
    "    \n",
    "MLP.backpropagation=backpropagation"
   ]
  },
  {
   "cell_type": "code",
   "execution_count": 22,
   "metadata": {},
   "outputs": [],
   "source": [
    "x_train=np.expand_dims(np.array(x[0][0:200,1]),axis=1)\n",
    "x_train = x_train.astype('float64')\n",
    "y_train=np.array(y[0][0:200])\n",
    "x_test=np.expand_dims(np.array(x[0][200:-2,1]),axis=1)\n",
    "x_test = x_test.astype('float64')\n",
    "y_test=np.array(y[0][200:-1])"
   ]
  },
  {
   "cell_type": "code",
   "execution_count": 12,
   "metadata": {},
   "outputs": [
    {
     "name": "stdout",
     "output_type": "stream",
     "text": [
      "(200, 1)\n",
      "251\n"
     ]
    }
   ],
   "source": [
    "print(x_train.shape)\n",
    "print(len(y[0]))"
   ]
  },
  {
   "cell_type": "code",
   "execution_count": 14,
   "metadata": {},
   "outputs": [
    {
     "name": "stdout",
     "output_type": "stream",
     "text": [
      "TRAINING\n",
      "Epoch 0 : loss = 1.40037e-03, accuracy = 56.50 %\n",
      "Epoch 10 : loss = 1.79654e-03, accuracy = 56.50 %\n",
      "Epoch 20 : loss = 2.74641e-03, accuracy = 61.50 %\n",
      "Epoch 30 : loss = 3.24137e-03, accuracy = 62.50 %\n",
      "Epoch 40 : loss = 3.39773e-03, accuracy = 63.00 %\n",
      "Epoch 50 : loss = 3.43790e-03, accuracy = 64.00 %\n",
      "Epoch 60 : loss = 3.44314e-03, accuracy = 63.50 %\n",
      "Epoch 70 : loss = 3.43822e-03, accuracy = 63.50 %\n",
      "Epoch 80 : loss = 3.43069e-03, accuracy = 63.50 %\n",
      "Epoch 90 : loss = 3.42295e-03, accuracy = 63.50 %\n",
      "final : loss = 3.416e-03 , accuracy = 63.50 %\n",
      "\n",
      "TEST\n",
      "loss = 8.405e-04 , accuracy = 62.00 %\n",
      "\n"
     ]
    },
    {
     "data": {
      "image/png": "[encoded data removed]",
      "text/plain": [
       "<Figure size 432x288 with 1 Axes>"
      ]
     },
     "metadata": {
      "needs_background": "light"
     },
     "output_type": "display_data"
    },
    {
     "data": {
      "image/png": "[encoded data removed]",
      "text/plain": [
       "<Figure size 432x288 with 1 Axes>"
      ]
     },
     "metadata": {
      "needs_background": "light"
     },
     "output_type": "display_data"
    }
   ],
   "source": [
    "epochs=100\n",
    "learning_rate=0.05\n",
    "verbose=True\n",
    "print_every_k=10\n",
    "\n",
    "# Initialization of the NN\n",
    "NN1 = MLP([1, 10, 2])\n",
    "print('TRAINING')\n",
    "# Training\n",
    "NN1.training(x_train,y_train,learning_rate,epochs,verbose,print_every_k)\n",
    "# Compute the training loss and accuracy after having completer the training\n",
    "y_hat=NN1.forward(x_train)\n",
    "print('final : loss = %.3e , accuracy = %.2f %%'%(MLP.loss(y_hat,y_train),100*MLP.accuracy(y_hat,y_train)))\n",
    "\n",
    "# Test\n",
    "print('\\nTEST')\n",
    "y_hat=NN1.forward(x_test)\n",
    "print('loss = %.3e , accuracy = %.2f %%\\n'%(MLP.loss(y_hat,y_test),100*MLP.accuracy(y_hat,y_test)))\n",
    "\n",
    "plt.plot(list(range(epochs)),NN1.losses,c='r',marker='o',ls='--');\n",
    "plt.title(\"Training Loss\")\n",
    "plt.xlabel(\"epochs\")\n",
    "plt.ylabel(\"loss value\")\n",
    "plt.show()\n",
    "\n",
    "plt.plot(list(range(epochs)),NN1.accuracies,c='g',marker='o',ls='--');\n",
    "plt.title(\"Training accuracy\")\n",
    "plt.xlabel(\"epochs\")\n",
    "plt.ylabel(\"accuracy\")\n",
    "plt.show()\n"
   ]
  },
  {
   "cell_type": "code",
   "execution_count": 15,
   "metadata": {},
   "outputs": [],
   "source": [
    "years_ago = 3"
   ]
  },
  {
   "cell_type": "code",
   "execution_count": 86,
   "metadata": {},
   "outputs": [
    {
     "name": "stdout",
     "output_type": "stream",
     "text": [
      "0.05297454545454545\n"
     ]
    }
   ],
   "source": [
    "x_train = np.array([[x[0][i-k,1] for k in range(years_ago)] for i in range (years_ago, 100)])\n",
    "x_train = x_train.astype('float64')\n",
    "y_train=np.array(y[0][years_ago:100])\n",
    "x_test= np.array([[x[0][i-k,1] for k in range(years_ago)] for i in range (100, 251)])\n",
    "x_test = x_test.astype('float64')\n",
    "y_test=np.array(y[0][100:252])\n",
    "avg_up = average_up(x, y_train)\n",
    "avg_down = average_down(y, y_train)\n",
    "print(avg_up)"
   ]
  },
  {
   "cell_type": "code",
   "execution_count": 87,
   "metadata": {},
   "outputs": [
    {
     "name": "stdout",
     "output_type": "stream",
     "text": [
      "TRAINING\n",
      "Epoch 0 : loss = 2.73966e-03, accuracy = 56.70 %\n",
      "Epoch 10 : loss = 2.91034e-03, accuracy = 56.70 %\n",
      "Epoch 20 : loss = 2.99494e-03, accuracy = 56.70 %\n",
      "Epoch 30 : loss = 2.88243e-03, accuracy = 56.70 %\n",
      "Epoch 40 : loss = 2.64375e-03, accuracy = 56.70 %\n",
      "Epoch 50 : loss = 2.30117e-03, accuracy = 56.70 %\n",
      "Epoch 60 : loss = 1.92952e-03, accuracy = 56.70 %\n",
      "Epoch 70 : loss = 1.62023e-03, accuracy = 58.76 %\n",
      "Epoch 80 : loss = 1.38099e-03, accuracy = 64.95 %\n",
      "Epoch 90 : loss = 1.18490e-03, accuracy = 65.98 %\n",
      "Epoch 100 : loss = 1.02498e-03, accuracy = 67.01 %\n",
      "Epoch 110 : loss = 8.97290e-04, accuracy = 64.95 %\n",
      "Epoch 120 : loss = 7.91882e-04, accuracy = 64.95 %\n",
      "Epoch 130 : loss = 7.00404e-04, accuracy = 64.95 %\n",
      "Epoch 140 : loss = 6.19646e-04, accuracy = 64.95 %\n",
      "Epoch 150 : loss = 5.49444e-04, accuracy = 64.95 %\n",
      "Epoch 160 : loss = 4.90138e-04, accuracy = 63.92 %\n",
      "Epoch 170 : loss = 4.41498e-04, accuracy = 63.92 %\n",
      "Epoch 180 : loss = 4.02680e-04, accuracy = 63.92 %\n",
      "Epoch 190 : loss = 3.72518e-04, accuracy = 64.95 %\n",
      "final : loss = 3.518e-04 , accuracy = 64.95 %\n",
      "\n",
      "TEST\n",
      "loss = 4.595e-03 , accuracy = 32.45 %\n",
      "\n"
     ]
    },
    {
     "data": {
      "image/png": "[encoded data removed]",
      "text/plain": [
       "<Figure size 432x288 with 1 Axes>"
      ]
     },
     "metadata": {
      "needs_background": "light"
     },
     "output_type": "display_data"
    },
    {
     "data": {
      "image/png": "[encoded data removed]",
      "text/plain": [
       "<Figure size 432x288 with 1 Axes>"
      ]
     },
     "metadata": {
      "needs_background": "light"
     },
     "output_type": "display_data"
    }
   ],
   "source": [
    "epochs=200\n",
    "learning_rate=0.1\n",
    "verbose=True\n",
    "print_every_k=10\n",
    "\n",
    "# Initialization of the NN\n",
    "NN1 = MLP([3, 10, 2])\n",
    "print('TRAINING')\n",
    "# Training\n",
    "NN1.training(x_train,y_train,learning_rate,epochs,verbose,print_every_k)\n",
    "# Compute the training loss and accuracy after having completer the training\n",
    "y_hat=NN1.forward(x_train)\n",
    "print('final : loss = %.3e , accuracy = %.2f %%'%(MLP.loss(y_hat,y_train),100*MLP.accuracy(y_hat,y_train)))\n",
    "\n",
    "# Test\n",
    "print('\\nTEST')\n",
    "y_hat=NN1.forward(x_test)\n",
    "print('loss = %.3e , accuracy = %.2f %%\\n'%(MLP.loss(y_hat,y_test),100*MLP.accuracy(y_hat,y_test)))\n",
    "\n",
    "plt.plot(list(range(epochs)),NN1.losses,c='r',marker='o',ls='--');\n",
    "plt.title(\"Training Loss\")\n",
    "plt.xlabel(\"epochs\")\n",
    "plt.ylabel(\"loss value\")\n",
    "plt.show()\n",
    "\n",
    "plt.plot(list(range(epochs)),NN1.accuracies,c='g',marker='o',ls='--');\n",
    "plt.title(\"Training accuracy\")\n",
    "plt.xlabel(\"epochs\")\n",
    "plt.ylabel(\"accuracy\")\n",
    "plt.show()"
   ]
  },
  {
   "cell_type": "code",
   "execution_count": 88,
   "metadata": {},
   "outputs": [
    {
     "name": "stdout",
     "output_type": "stream",
     "text": [
      "251\n",
      "247\n"
     ]
    },
    {
     "data": {
      "image/png": "[encoded data removed]",
      "text/plain": [
       "<Figure size 432x288 with 1 Axes>"
      ]
     },
     "metadata": {
      "needs_background": "light"
     },
     "output_type": "display_data"
    }
   ],
   "source": [
    "true_plot= x[0][1:len(x[0]),1]\n",
    "l_x_train = len(x_train)\n",
    "predicted_plot = [x[0][i][1] for i in range(1, l_x_train)]\n",
    "\n",
    "\n",
    "for i in range(len(x_test)):\n",
    "    if y_hat[i][0]>y_hat[i][1]:\n",
    "        predicted_plot.append(predicted_plot[l_x_train + i -2] - avg_down)\n",
    "    else:\n",
    "        predicted_plot.append(predicted_plot[l_x_train + i -2] + avg_up)\n",
    "\n",
    "print(len(true_plot))\n",
    "print(len(predicted_plot))\n",
    "\n",
    "plt.plot(true_plot,c='g',marker='o',ls='--');\n",
    "plt.plot(predicted_plot,c='r',marker='o',ls='--');\n",
    "plt.title(\"Interest rate\")\n",
    "plt.xlabel(\"epochs\")\n",
    "plt.ylabel(\"accuracy\")\n",
    "plt.show()"
   ]
  },
  {
   "cell_type": "code",
   "execution_count": null,
   "metadata": {},
   "outputs": [],
   "source": []
  }
 ],
 "metadata": {
  "kernelspec": {
   "display_name": "Python 3",
   "language": "python",
   "name": "python3"
  },
  "language_info": {
   "codemirror_mode": {
    "name": "ipython",
    "version": 3
   },
   "file_extension": ".py",
   "mimetype": "text/x-python",
   "name": "python",
   "nbconvert_exporter": "python",
   "pygments_lexer": "ipython3",
   "version": "3.8.2"
  }
 },
 "nbformat": 4,
 "nbformat_minor": 4
}
