{
 "cells": [
  {
   "cell_type": "code",
   "execution_count": 16,
   "metadata": {},
   "outputs": [],
   "source": [
    "import pandas as pd\n",
    "import numpy as np\n",
    "ocde_data = pd.read_csv('data/OCDE/OCDE.csv')"
   ]
  },
  {
   "cell_type": "code",
   "execution_count": 17,
   "metadata": {},
   "outputs": [
    {
     "name": "stdout",
     "output_type": "stream",
     "text": [
      "<class 'pandas.core.frame.DataFrame'>\n"
     ]
    }
   ],
   "source": [
    "print(type(ocde_data))"
   ]
  },
  {
   "cell_type": "code",
   "execution_count": 18,
   "metadata": {},
   "outputs": [],
   "source": [
    "locations = list(set(np.array(ocde_data['LOCATION'])))\n",
    "nb_locations = len(locations)\n",
    "x=np.array(ocde_data[['LOCATION','TIME','Value']].copy())"
   ]
  },
  {
   "cell_type": "code",
   "execution_count": 19,
   "metadata": {},
   "outputs": [
    {
     "name": "stdout",
     "output_type": "stream",
     "text": [
      "['ESP', 'CHL', 'COL', 'MEX', 'ISR', 'FIN', 'DNK', 'NOR', 'SWE', 'IDN']\n"
     ]
    }
   ],
   "source": [
    "print(list(set(locations)))"
   ]
  },
  {
   "cell_type": "code",
   "execution_count": 20,
   "metadata": {},
   "outputs": [],
   "source": [
    "x=[]\n",
    "\n",
    "for l in locations:\n",
    "    a = ocde_data.loc[ocde_data['LOCATION'] == l]\n",
    "    a.to_csv (r'data/OCDE/'+l+'_OCDE.csv', index = None, header=True)\n",
    "    tb=np.array(a[['TIME', 'Value']].copy())\n",
    "    x.append(tb)\n",
    "\n"
   ]
  },
  {
   "cell_type": "code",
   "execution_count": 21,
   "metadata": {},
   "outputs": [
    {
     "name": "stdout",
     "output_type": "stream",
     "text": [
      "494\n",
      "229\n",
      "287\n",
      "346\n",
      "419\n",
      "407\n",
      "407\n",
      "493\n",
      "466\n",
      "275\n"
     ]
    }
   ],
   "source": [
    "for i in range(nb_locations):\n",
    "    print(len(x[i]))"
   ]
  },
  {
   "cell_type": "code",
   "execution_count": 22,
   "metadata": {},
   "outputs": [],
   "source": [
    "import xlrd\n",
    "import unicodecsv\n",
    "\n",
    "def xls2csv (xls_filename, csv_filename):\n",
    "# Converts an Excel file to a CSV file.\n",
    "# If the excel file has multiple worksheets, only the first worksheet is converted.\n",
    "# Uses unicodecsv, so it will handle Unicode characters.\n",
    "# Uses a recent version of xlrd, so it should handle old .xls and new .xlsx equally well.\n",
    "\n",
    "    wb = xlrd.open_workbook(xls_filename)\n",
    "    sh = wb.sheet_by_index(0)\n",
    "\n",
    "    fh = open(csv_filename,\"wb\")\n",
    "    csv_out = unicodecsv.writer(fh, encoding='utf-8')\n",
    "\n",
    "    for row_number in range (sh.nrows):\n",
    "        csv_out.writerow(sh.row_values(row_number))\n",
    "\n",
    "    fh.close()"
   ]
  },
  {
   "cell_type": "code",
   "execution_count": 25,
   "metadata": {},
   "outputs": [],
   "source": [
    "xls2csv(\"data/IMF/IMF.xlsx\", \"data/IMF/IMF.csv\")"
   ]
  },
  {
   "cell_type": "code",
   "execution_count": 26,
   "metadata": {},
   "outputs": [],
   "source": [
    "news_data = pd.read_csv('data/IMF/IMF.csv')"
   ]
  },
  {
   "cell_type": "code",
   "execution_count": 27,
   "metadata": {},
   "outputs": [],
   "source": [
    "locations = list(set(np.array(news_data['country_name'])))\n",
    "nb_locations = len(locations)\n",
    "x=np.array(news_data[['country_name','time','index_All_sentiment','index_All_sentiment_(w/o_pos_and_neg)','index_Crisis_sentiment','index_Fear_sentiment','index_Hedging_sentiment','index_Negative_sentiment','index_Negative_sentiment_+','index_Opinion_sentiment','index_Positive_sentiment','index_Risk_sentiment']].copy())"
   ]
  },
  {
   "cell_type": "code",
   "execution_count": 28,
   "metadata": {},
   "outputs": [
    {
     "name": "stdout",
     "output_type": "stream",
     "text": [
      "['Colombia', 'Mexico', 'Brazil', 'Peru', 'Sweden', 'Bolivia', 'Indonesia', 'Uruguay', 'Argentina', 'Spain', 'Philippines', 'Thailand', 'Israel', 'Finland', 'Malaysia', 'Norway', 'Denmark', 'Turkey', 'Venezuela', 'Chile']\n"
     ]
    }
   ],
   "source": [
    "print(locations)"
   ]
  },
  {
   "cell_type": "code",
   "execution_count": 29,
   "metadata": {},
   "outputs": [],
   "source": [
    "x=[]\n",
    "\n",
    "for l in locations:\n",
    "    a = news_data.loc[news_data['country_name'] == l]\n",
    "    a.to_csv (r'data/IMF/'+l+'_IMF.csv', index = None, header=True)\n",
    "    tb=np.array(a[['time','index_All_sentiment','index_All_sentiment_(w/o_pos_and_neg)','index_Crisis_sentiment','index_Fear_sentiment','index_Hedging_sentiment','index_Negative_sentiment','index_Negative_sentiment_+','index_Opinion_sentiment','index_Positive_sentiment','index_Risk_sentiment']].copy())\n",
    "    x.append(tb)\n"
   ]
  },
  {
   "cell_type": "code",
   "execution_count": null,
   "metadata": {},
   "outputs": [],
   "source": []
  }
 ],
 "metadata": {
  "kernelspec": {
   "display_name": "Python 3",
   "language": "python",
   "name": "python3"
  },
  "language_info": {
   "codemirror_mode": {
    "name": "ipython",
    "version": 3
   },
   "file_extension": ".py",
   "mimetype": "text/x-python",
   "name": "python",
   "nbconvert_exporter": "python",
   "pygments_lexer": "ipython3",
   "version": "3.8.2"
  }
 },
 "nbformat": 4,
 "nbformat_minor": 4
}
