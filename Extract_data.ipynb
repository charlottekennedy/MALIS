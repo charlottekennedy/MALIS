{
 "cells": [
  {
   "cell_type": "code",
   "execution_count": 7,
   "metadata": {},
   "outputs": [],
   "source": [
    "import pandas as pd\n",
    "import numpy as np\n",
    "ocde_data = pd.read_csv('data/OCDE.csv')"
   ]
  },
  {
   "cell_type": "code",
   "execution_count": 8,
   "metadata": {},
   "outputs": [
    {
     "name": "stdout",
     "output_type": "stream",
     "text": [
      "<class 'pandas.core.frame.DataFrame'>\n"
     ]
    }
   ],
   "source": [
    "print(type(ocde_data))"
   ]
  },
  {
   "cell_type": "code",
   "execution_count": 9,
   "metadata": {},
   "outputs": [],
   "source": [
    "locations = list(set(np.array(ocde_data['LOCATION'])))\n",
    "nb_locations = len(locations)\n",
    "x=np.array(ocde_data[['LOCATION','TIME','Value']].copy())"
   ]
  },
  {
   "cell_type": "code",
   "execution_count": 10,
   "metadata": {},
   "outputs": [
    {
     "name": "stdout",
     "output_type": "stream",
     "text": [
      "['LTU', 'AUT', 'EST', 'ESP', 'HUN', 'GRC', 'IRL', 'SWE', 'FRA', 'FIN', 'DEU', 'POL', 'SVN', 'LVA', 'BEL', 'GBR', 'PRT', 'DNK', 'LUX', 'ITA']\n"
     ]
    }
   ],
   "source": [
    "print(list(set(locations)))"
   ]
  },
  {
   "cell_type": "code",
   "execution_count": 11,
   "metadata": {},
   "outputs": [],
   "source": [
    "x=[]\n",
    "\n",
    "for l in locations:\n",
    "    a = ocde_data.loc[ocde_data['LOCATION'] == l]\n",
    "    tb=np.array(a[['TIME', 'Value']].copy())\n",
    "    x.append(tb)\n",
    "\n"
   ]
  },
  {
   "cell_type": "code",
   "execution_count": 12,
   "metadata": {},
   "outputs": [
    {
     "name": "stdout",
     "output_type": "stream",
     "text": [
      "252\n",
      "252\n",
      "252\n",
      "252\n",
      "224\n",
      "252\n",
      "252\n",
      "251\n",
      "252\n",
      "252\n",
      "252\n",
      "252\n",
      "226\n",
      "252\n",
      "252\n",
      "252\n",
      "252\n",
      "252\n",
      "252\n",
      "252\n"
     ]
    }
   ],
   "source": [
    "for i in range(nb_locations):\n",
    "    print(len(x[i]))"
   ]
  },
  {
   "cell_type": "code",
   "execution_count": 20,
   "metadata": {},
   "outputs": [
    {
     "name": "stdout",
     "output_type": "stream",
     "text": [
      "[21.74571 20.81864]\n"
     ]
    }
   ],
   "source": [
    "print(x[0][0:2,1])"
   ]
  },
  {
   "cell_type": "code",
   "execution_count": null,
   "metadata": {},
   "outputs": [],
   "source": []
  }
 ],
 "metadata": {
  "kernelspec": {
   "display_name": "Python 3",
   "language": "python",
   "name": "python3"
  },
  "language_info": {
   "codemirror_mode": {
    "name": "ipython",
    "version": 3
   },
   "file_extension": ".py",
   "mimetype": "text/x-python",
   "name": "python",
   "nbconvert_exporter": "python",
   "pygments_lexer": "ipython3",
   "version": "3.8.2"
  }
 },
 "nbformat": 4,
 "nbformat_minor": 4
}
